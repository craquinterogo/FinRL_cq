{
 "cells": [
  {
   "cell_type": "code",
   "execution_count": 1,
   "metadata": {},
   "outputs": [],
   "source": [
    "from tensorboard import program\n",
    "\n",
    "tracking_address = '../results/ddpg' # the path of your log file.\n",
    "\n",
    "if __name__ == \"__main__\":\n",
    "    tb = program.TensorBoard()\n",
    "    tb.configure(argv=[None, '--logdir', tracking_address])\n",
    "    url = tb.launch()\n",
    "    print(f\"Tensorflow listening on {url}\")"
   ]
  }
 ],
 "metadata": {
  "kernelspec": {
   "display_name": "Python 3.8.6 64-bit",
   "language": "python",
   "name": "python3"
  },
  "language_info": {
   "codemirror_mode": {
    "name": "ipython",
    "version": 3
   },
   "file_extension": ".py",
   "mimetype": "text/x-python",
   "name": "python",
   "nbconvert_exporter": "python",
   "pygments_lexer": "ipython3",
   "version": "3.8.6"
  },
  "orig_nbformat": 4,
  "vscode": {
   "interpreter": {
    "hash": "a1dc24e770f11933509167a1c29cdaaeb86ecb8b4614cc65da123615b71c0aa2"
   }
  }
 },
 "nbformat": 4,
 "nbformat_minor": 2
}
