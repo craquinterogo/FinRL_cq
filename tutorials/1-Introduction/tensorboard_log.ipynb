from tensorboard import program

tracking_address = log_path # the path of your log file.

if __name__ == "__main__":
    tb = program.TensorBoard()
    tb.configure(argv=[None, '--logdir', tracking_address])
    url = tb.launch()
    print(f"Tensorflow listening on {url}")